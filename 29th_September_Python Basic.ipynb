{
 "cells": [
  {
   "cell_type": "code",
   "execution_count": 36,
   "id": "18016362-a665-47ff-b863-9e10215c5a9f",
   "metadata": {},
   "outputs": [
    {
     "name": "stdin",
     "output_type": "stream",
     "text": [
      "Enter a number (x) :  5\n",
      "Enter a number (y):  7\n"
     ]
    },
    {
     "name": "stdout",
     "output_type": "stream",
     "text": [
      "After swapping:\n",
      "x = 7\n",
      "y = 5\n"
     ]
    }
   ],
   "source": [
    "# Swap numbers\n",
    "x = int(input(\"Enter a number (x) : \"))\n",
    "y = int(input(\"Enter a number (y): \"))\n",
    "\n",
    "\n",
    "x, y = y, x\n",
    "\n",
    "print(\"After swapping:\")\n",
    "print(\"x =\", x)\n",
    "print(\"y =\", y)\n"
   ]
  },
  {
   "cell_type": "code",
   "execution_count": 2,
   "id": "c22da273-4d41-4dc5-bca7-19fcde8234f3",
   "metadata": {},
   "outputs": [
    {
     "name": "stdin",
     "output_type": "stream",
     "text": [
      "Enter the length of the rectangle 8\n",
      "Enter the bredth of the rectangle 7\n"
     ]
    },
    {
     "name": "stdout",
     "output_type": "stream",
     "text": [
      "Area of rectangle is : length X Bredth = 8 X 7 = 56 \n"
     ]
    }
   ],
   "source": [
    "# Calculate Area of rectangle\n",
    "\n",
    "# Area of rectangle is length (L) * bredth (b)\n",
    "\n",
    "L = int(input(\"Enter the length of the rectangle\"))\n",
    "b = int(input(\"Enter the bredth of the rectangle\"))\n",
    "\n",
    "a = L*b\n",
    "\n",
    "print(\"Area of rectangle is : length X Bredth = {} X {} = {} \".format(L, b, a))"
   ]
  },
  {
   "cell_type": "code",
   "execution_count": 3,
   "id": "c0844209-fa20-4add-be3e-7fee1e746469",
   "metadata": {},
   "outputs": [
    {
     "name": "stdin",
     "output_type": "stream",
     "text": [
      "Enter the temperature (in degree celsus) :  20\n"
     ]
    },
    {
     "name": "stdout",
     "output_type": "stream",
     "text": [
      "Temperature  enter is 20 degree celsus and after conversion is 68.0 degree farhenite\n"
     ]
    }
   ],
   "source": [
    "# Convert degree celsus to Ferhenite\n",
    "\n",
    "d = int(input(\"Enter the temperature (in degree celsus) : \"))\n",
    "\n",
    "F = (d * 1.8 ) +32\n",
    "\n",
    "print(\"Temperature  enter is {} degree celsus and after conversion is {} degree farhenite\".format(d, F))"
   ]
  },
  {
   "cell_type": "code",
   "execution_count": 4,
   "id": "24e9c2f1-8a57-41d6-bdcb-6ca8359010c7",
   "metadata": {},
   "outputs": [
    {
     "name": "stdin",
     "output_type": "stream",
     "text": [
      "Enter any string you want :  My Name is Saurabh\n"
     ]
    },
    {
     "name": "stdout",
     "output_type": "stream",
     "text": [
      "The length of entered string is 18 characters\n"
     ]
    }
   ],
   "source": [
    "# Printing the length of the string\n",
    "\n",
    "str1 = input(\"Enter any string you want : \")\n",
    "\n",
    "length = len(str1)\n",
    "\n",
    "print(\"The length of entered string is {} characters\".format(length))"
   ]
  },
  {
   "cell_type": "code",
   "execution_count": 21,
   "id": "b4e62c27-c75a-498a-8045-7b3deb766af3",
   "metadata": {},
   "outputs": [
    {
     "name": "stdin",
     "output_type": "stream",
     "text": [
      "Enter any string you want :  Hi how are you\n"
     ]
    },
    {
     "name": "stdout",
     "output_type": "stream",
     "text": [
      "total number of vovels in the entered string is 6\n"
     ]
    }
   ],
   "source": [
    "# Counting vovels in the string.\n",
    "\n",
    "str2 = input(\"Enter any string you want : \")\n",
    "\n",
    "vovels = [\"a\", \"e\", \"i\", \"o\", \"u\"]\n",
    "\n",
    "i = 0\n",
    "\n",
    "for w in str2:\n",
    "    if w in vovels:\n",
    "        i+=1\n",
    "print(\"total number of vovels in the entered string is {}\".format(i))\n",
    "        \n",
    "            \n"
   ]
  },
  {
   "cell_type": "code",
   "execution_count": 24,
   "id": "49b0c800-42d4-404b-b440-b2277f9fbaab",
   "metadata": {},
   "outputs": [
    {
     "name": "stdin",
     "output_type": "stream",
     "text": [
      "Enter a string :  Hi how are you\n"
     ]
    },
    {
     "name": "stdout",
     "output_type": "stream",
     "text": [
      "Reverse order :  uoy era woh iH\n"
     ]
    }
   ],
   "source": [
    "#Reversing the string\n",
    "\n",
    "str1 = input(\"Enter a string : \")\n",
    "\n",
    "str2 = str1[::-1 ]\n",
    "\n",
    "print(\"Reverse order :  {}\".format(str2))"
   ]
  },
  {
   "cell_type": "code",
   "execution_count": 28,
   "id": "cfff6317-2f3e-4cc0-a5f4-5c520d9b8ed7",
   "metadata": {},
   "outputs": [
    {
     "name": "stdin",
     "output_type": "stream",
     "text": [
      "Enter a word Mummy\n"
     ]
    },
    {
     "name": "stdout",
     "output_type": "stream",
     "text": [
      "False\n"
     ]
    }
   ],
   "source": [
    "# Checking the palindrome\n",
    "\n",
    "s1 = input(\"Enter a word\")\n",
    "s2 = s1[::-1]\n",
    "\n",
    "if s1 == s2:\n",
    "    print(\"True\")\n",
    "else:\n",
    "    print(\"False\")"
   ]
  },
  {
   "cell_type": "code",
   "execution_count": 31,
   "id": "f26c30d5-4c1c-48ee-b9c4-78a520b410cd",
   "metadata": {},
   "outputs": [
    {
     "name": "stdin",
     "output_type": "stream",
     "text": [
      "Enter a string:  Hi how are you\n"
     ]
    },
    {
     "name": "stdout",
     "output_type": "stream",
     "text": [
      "words without space   :    Hihowareyou\n"
     ]
    }
   ],
   "source": [
    "# Print without space\n",
    "\n",
    "s1 = input(\"Enter a string: \")\n",
    "\n",
    "s2 = s1.replace(\" \",\"\")\n",
    "\n",
    "print(\"words without space   :    {}\".format(s2))"
   ]
  },
  {
   "cell_type": "code",
   "execution_count": null,
   "id": "285f4b96-49c0-40f6-978f-9a6c684cf28b",
   "metadata": {},
   "outputs": [],
   "source": []
  }
 ],
 "metadata": {
  "kernelspec": {
   "display_name": "Python 3 (ipykernel)",
   "language": "python",
   "name": "python3"
  },
  "language_info": {
   "codemirror_mode": {
    "name": "ipython",
    "version": 3
   },
   "file_extension": ".py",
   "mimetype": "text/x-python",
   "name": "python",
   "nbconvert_exporter": "python",
   "pygments_lexer": "ipython3",
   "version": "3.10.8"
  }
 },
 "nbformat": 4,
 "nbformat_minor": 5
}
